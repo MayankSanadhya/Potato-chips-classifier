{
 "cells": [
  {
   "cell_type": "code",
   "execution_count": 1,
   "id": "bea07a19",
   "metadata": {},
   "outputs": [
    {
     "name": "stderr",
     "output_type": "stream",
     "text": [
      "C:\\Users\\mayan\\anaconda3\\lib\\site-packages\\numpy\\_distributor_init.py:30: UserWarning: loaded more than 1 DLL from .libs:\n",
      "C:\\Users\\mayan\\anaconda3\\lib\\site-packages\\numpy\\.libs\\libopenblas.WCDJNK7YVMPZQ2ME2ZZHJJRJ3JIKNDB7.gfortran-win_amd64.dll\n",
      "C:\\Users\\mayan\\anaconda3\\lib\\site-packages\\numpy\\.libs\\libopenblas.XWYDX2IKJW2NMTWSFYNGFUWKQU3LYTCZ.gfortran-win_amd64.dll\n",
      "  warnings.warn(\"loaded more than 1 DLL from .libs:\"\n"
     ]
    }
   ],
   "source": [
    "import tensorflow as tf\n",
    "from tensorflow import keras\n",
    "from tensorflow.keras import layers\n",
    "from keras.layers import Conv2D,MaxPool2D,Dense,Flatten,Dropout,Activation,MaxPooling2D,Dropout\n",
    "from keras.models import Sequential\n",
    "from keras import preprocessing\n",
    "from keras.preprocessing import image\n",
    "from keras.preprocessing.image import ImageDataGenerator"
   ]
  },
  {
   "cell_type": "code",
   "execution_count": 2,
   "id": "77826db7",
   "metadata": {},
   "outputs": [],
   "source": [
    "train_datagen = ImageDataGenerator(rescale=1./255,\n",
    "                                  shear_range=0.2,\n",
    "                                  zoom_range=0.2,\n",
    "                                  horizontal_flip=True,\n",
    "                                  )\n",
    "test_datagen = ImageDataGenerator(rescale=1./255)"
   ]
  },
  {
   "cell_type": "code",
   "execution_count": 3,
   "id": "f8f2da4e",
   "metadata": {},
   "outputs": [
    {
     "name": "stdout",
     "output_type": "stream",
     "text": [
      "Found 769 images belonging to 2 classes.\n",
      "Found 192 images belonging to 2 classes.\n"
     ]
    }
   ],
   "source": [
    "train_set = train_datagen.flow_from_directory(r'C:\\Users\\mayan\\Downloads\\New Datasets\\pepsico potato chips\\Pepsico RnD Potato Lab Dataset\\Train',\n",
    "                                             target_size=(64,64),\n",
    "                                             batch_size=32,\n",
    "                                             class_mode='binary')\n",
    "test_set = test_datagen.flow_from_directory(r'C:\\Users\\mayan\\Downloads\\New Datasets\\pepsico potato chips\\Pepsico RnD Potato Lab Dataset\\Test',\n",
    "                                           target_size=(64,64),\n",
    "                                           batch_size=32,\n",
    "                                           class_mode='binary')"
   ]
  },
  {
   "cell_type": "code",
   "execution_count": 4,
   "id": "e066dcaf",
   "metadata": {},
   "outputs": [
    {
     "data": {
      "text/plain": [
       "{'Defective': 0, 'Not Defective': 1}"
      ]
     },
     "execution_count": 4,
     "metadata": {},
     "output_type": "execute_result"
    }
   ],
   "source": [
    "test_set.class_indices"
   ]
  },
  {
   "cell_type": "code",
   "execution_count": 5,
   "id": "d445dc76",
   "metadata": {},
   "outputs": [],
   "source": [
    "cnn = tf.keras.models.Sequential()"
   ]
  },
  {
   "cell_type": "code",
   "execution_count": 6,
   "id": "625a335b",
   "metadata": {},
   "outputs": [],
   "source": [
    "cnn.add(tf.keras.layers.Conv2D(filters=128, kernel_size=3, activation='relu', input_shape=[64, 64, 3]))\n"
   ]
  },
  {
   "cell_type": "code",
   "execution_count": 7,
   "id": "4231103d",
   "metadata": {},
   "outputs": [],
   "source": [
    "cnn.add(tf.keras.layers.MaxPool2D(pool_size=2, strides=3))\n"
   ]
  },
  {
   "cell_type": "code",
   "execution_count": 8,
   "id": "d1518c84",
   "metadata": {},
   "outputs": [],
   "source": [
    "cnn.add(tf.keras.layers.Conv2D(filters=256, kernel_size=3, activation='relu'))\n",
    "cnn.add(tf.keras.layers.MaxPool2D(pool_size=2, strides=3))"
   ]
  },
  {
   "cell_type": "code",
   "execution_count": 9,
   "id": "f6d5bb69",
   "metadata": {},
   "outputs": [],
   "source": [
    "cnn.add(tf.keras.layers.Flatten())"
   ]
  },
  {
   "cell_type": "code",
   "execution_count": 10,
   "id": "04777c67",
   "metadata": {},
   "outputs": [],
   "source": [
    "cnn.add(tf.keras.layers.Dense(units=128, activation='relu'))"
   ]
  },
  {
   "cell_type": "code",
   "execution_count": 11,
   "id": "1f2ee0fc",
   "metadata": {},
   "outputs": [],
   "source": [
    "cnn.add(tf.keras.layers.Dropout(0.1))"
   ]
  },
  {
   "cell_type": "code",
   "execution_count": 12,
   "id": "f672c8f9",
   "metadata": {},
   "outputs": [],
   "source": [
    "cnn.add(tf.keras.layers.Dense(units=256, activation='relu'))"
   ]
  },
  {
   "cell_type": "code",
   "execution_count": 13,
   "id": "0a556c70",
   "metadata": {},
   "outputs": [],
   "source": [
    "cnn.add(tf.keras.layers.Dropout(0.25))"
   ]
  },
  {
   "cell_type": "code",
   "execution_count": 14,
   "id": "58b79a58",
   "metadata": {},
   "outputs": [],
   "source": [
    "cnn.add(tf.keras.layers.Dense(units=512, activation='relu'))"
   ]
  },
  {
   "cell_type": "code",
   "execution_count": 15,
   "id": "730b9a08",
   "metadata": {},
   "outputs": [],
   "source": [
    "cnn.add(tf.keras.layers.Dropout(0.5))"
   ]
  },
  {
   "cell_type": "code",
   "execution_count": 16,
   "id": "fe7848b0",
   "metadata": {},
   "outputs": [],
   "source": [
    "cnn.add(tf.keras.layers.Dense(units=1, activation='sigmoid'))"
   ]
  },
  {
   "cell_type": "code",
   "execution_count": 17,
   "id": "4b42bfb1",
   "metadata": {},
   "outputs": [],
   "source": [
    "cnn.compile(optimizer = 'adam', loss = 'binary_crossentropy', metrics = ['accuracy'])"
   ]
  },
  {
   "cell_type": "code",
   "execution_count": 18,
   "id": "727cec9a",
   "metadata": {},
   "outputs": [
    {
     "name": "stdout",
     "output_type": "stream",
     "text": [
      "Epoch 1/10\n",
      "25/25 [==============================] - 87s 3s/step - loss: 0.7041 - accuracy: 0.5059 - val_loss: 0.6944 - val_accuracy: 0.4792\n",
      "Epoch 2/10\n",
      "25/25 [==============================] - 83s 3s/step - loss: 0.6875 - accuracy: 0.5449 - val_loss: 0.6437 - val_accuracy: 0.7865\n",
      "Epoch 3/10\n",
      "25/25 [==============================] - 87s 4s/step - loss: 0.4606 - accuracy: 0.8309 - val_loss: 0.2410 - val_accuracy: 0.8958\n",
      "Epoch 4/10\n",
      "25/25 [==============================] - 99s 4s/step - loss: 0.2282 - accuracy: 0.9324 - val_loss: 0.1212 - val_accuracy: 0.9740\n",
      "Epoch 5/10\n",
      "25/25 [==============================] - 99s 4s/step - loss: 0.1233 - accuracy: 0.9636 - val_loss: 0.1422 - val_accuracy: 0.9844\n",
      "Epoch 6/10\n",
      "25/25 [==============================] - 98s 4s/step - loss: 0.0777 - accuracy: 0.9831 - val_loss: 0.0892 - val_accuracy: 0.9792\n",
      "Epoch 7/10\n",
      "25/25 [==============================] - 98s 4s/step - loss: 0.0670 - accuracy: 0.9805 - val_loss: 0.2754 - val_accuracy: 0.8854\n",
      "Epoch 8/10\n",
      "25/25 [==============================] - 98s 4s/step - loss: 0.0413 - accuracy: 0.9870 - val_loss: 0.0350 - val_accuracy: 0.9948\n",
      "Epoch 9/10\n",
      "25/25 [==============================] - 98s 4s/step - loss: 0.0799 - accuracy: 0.9779 - val_loss: 0.0449 - val_accuracy: 0.9844\n",
      "Epoch 10/10\n",
      "25/25 [==============================] - 98s 4s/step - loss: 0.0412 - accuracy: 0.9883 - val_loss: 0.0245 - val_accuracy: 0.9844\n"
     ]
    },
    {
     "data": {
      "text/plain": [
       "<tensorflow.python.keras.callbacks.History at 0x237be9df730>"
      ]
     },
     "execution_count": 18,
     "metadata": {},
     "output_type": "execute_result"
    }
   ],
   "source": [
    "cnn.fit(x = train_set, validation_data = test_set, epochs = 10)"
   ]
  },
  {
   "cell_type": "code",
   "execution_count": 22,
   "id": "c1ae5f02",
   "metadata": {},
   "outputs": [
    {
     "name": "stdout",
     "output_type": "stream",
     "text": [
      "Defective\n"
     ]
    }
   ],
   "source": [
    "import numpy as np\n",
    "from keras.preprocessing import image\n",
    "test_image = image.load_img(r'C:\\Users\\mayan\\Downloads\\New Datasets\\pepsico potato chips\\Pepsico RnD Potato Lab Dataset\\Test\\Defective\\IMG_20210319_005113.jpg', target_size = (64, 64)) # location of image\n",
    "test_image = image.img_to_array(test_image)    # converting to array\n",
    "test_image = np.expand_dims(test_image, axis = 0)  # selecting dimension 1 and batch_size\n",
    "result = cnn.predict(test_image)\n",
    "class_names = ['Defective','Not Defective']\n",
    "print(class_names[np.argmax(result)])"
   ]
  },
  {
   "cell_type": "code",
   "execution_count": 23,
   "id": "c7940570",
   "metadata": {},
   "outputs": [],
   "source": [
    "cnn.save('popato_chips_binary.h5')"
   ]
  },
  {
   "cell_type": "code",
   "execution_count": null,
   "id": "e65fee6b",
   "metadata": {},
   "outputs": [],
   "source": []
  }
 ],
 "metadata": {
  "kernelspec": {
   "display_name": "Python 3",
   "language": "python",
   "name": "python3"
  },
  "language_info": {
   "codemirror_mode": {
    "name": "ipython",
    "version": 3
   },
   "file_extension": ".py",
   "mimetype": "text/x-python",
   "name": "python",
   "nbconvert_exporter": "python",
   "pygments_lexer": "ipython3",
   "version": "3.8.8"
  }
 },
 "nbformat": 4,
 "nbformat_minor": 5
}
